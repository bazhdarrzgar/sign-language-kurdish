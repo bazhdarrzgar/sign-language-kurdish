{
 "cells": [
  {
   "cell_type": "code",
   "execution_count": 2,
   "metadata": {},
   "outputs": [],
   "source": [
    "import csv\n",
    "\n",
    "import numpy as np\n",
    "import tensorflow as tf\n",
    "from sklearn.model_selection import train_test_split\n",
    "\n",
    "RANDOM_SEED = 42"
   ]
  },
  {
   "attachments": {},
   "cell_type": "markdown",
   "metadata": {},
   "source": [
    "# Specifiy each path"
   ]
  },
  {
   "cell_type": "code",
   "execution_count": 3,
   "metadata": {},
   "outputs": [],
   "source": [
    "dataset = 'model/keypoint_classifier/keypoint.csv'\n",
    "model_save_path = 'model/keypoint_classifier/keypoint_classifier.hdf5'"
   ]
  },
  {
   "attachments": {},
   "cell_type": "markdown",
   "metadata": {},
   "source": [
    "# Set number of classes"
   ]
  },
  {
   "cell_type": "code",
   "execution_count": 4,
   "metadata": {},
   "outputs": [],
   "source": [
    "NUM_CLASSES = 43"
   ]
  },
  {
   "attachments": {},
   "cell_type": "markdown",
   "metadata": {},
   "source": [
    "# Dataset reading"
   ]
  },
  {
   "cell_type": "code",
   "execution_count": 6,
   "metadata": {},
   "outputs": [],
   "source": [
    "X_dataset = np.loadtxt(dataset, delimiter=',', dtype='float32', usecols=list(range(1, (21 * 2) + 1)))"
   ]
  },
  {
   "cell_type": "code",
   "execution_count": null,
   "metadata": {},
   "outputs": [],
   "source": [
    "y_dataset = np.loadtxt(dataset, delimiter=',', dtype='int32', usecols=(0))"
   ]
  },
  {
   "cell_type": "code",
   "execution_count": null,
   "metadata": {},
   "outputs": [],
   "source": [
    "X_train, X_test, y_train, y_test = train_test_split(X_dataset, y_dataset, train_size=0.75, random_state=RANDOM_SEED)"
   ]
  },
  {
   "attachments": {},
   "cell_type": "markdown",
   "metadata": {},
   "source": [
    "# Model building"
   ]
  },
  {
   "cell_type": "code",
   "execution_count": 41,
   "metadata": {},
   "outputs": [],
   "source": [
    "model = tf.keras.models.Sequential([\n",
    "    tf.keras.layers.Input((21 * 2, )),\n",
    "    tf.keras.layers.Dropout(0),\n",
    "    tf.keras.layers.Dense(400, activation='relu'),\n",
    "    tf.keras.layers.Dropout(0.2),\n",
    "    tf.keras.layers.Dense(30, activation='relu'),\n",
    "    tf.keras.layers.Dense(NUM_CLASSES, activation='softmax')\n",
    "])"
   ]
  },
  {
   "cell_type": "code",
   "execution_count": 53,
   "metadata": {},
   "outputs": [
    {
     "name": "stdout",
     "output_type": "stream",
     "text": [
      "Model: \"sequential_4\"\n",
      "_________________________________________________________________\n",
      "Layer (type)                 Output Shape              Param #   \n",
      "=================================================================\n",
      "dropout_8 (Dropout)          (None, 42)                0         \n",
      "_________________________________________________________________\n",
      "dense_12 (Dense)             (None, 400)               17200     \n",
      "_________________________________________________________________\n",
      "dropout_9 (Dropout)          (None, 400)               0         \n",
      "_________________________________________________________________\n",
      "dense_13 (Dense)             (None, 30)                12030     \n",
      "_________________________________________________________________\n",
      "dense_14 (Dense)             (None, 43)                1333      \n",
      "=================================================================\n",
      "Total params: 30,563\n",
      "Trainable params: 30,563\n",
      "Non-trainable params: 0\n",
      "_________________________________________________________________\n"
     ]
    }
   ],
   "source": [
    "model.summary()  # tf.keras.utils.plot_model(model, show_shapes=True)"
   ]
  },
  {
   "cell_type": "code",
   "execution_count": 54,
   "metadata": {},
   "outputs": [],
   "source": [
    "# Model checkpoint callback\n",
    "cp_callback = tf.keras.callbacks.ModelCheckpoint(\n",
    "    model_save_path, verbose=1, save_weights_only=False)\n",
    "# Callback for early stopping\n",
    "es_callback = tf.keras.callbacks.EarlyStopping(patience=20, verbose=1)"
   ]
  },
  {
   "cell_type": "code",
   "execution_count": 55,
   "metadata": {},
   "outputs": [],
   "source": [
    "# Model compilation\n",
    "model.compile(\n",
    "    optimizer='adam',\n",
    "    loss='sparse_categorical_crossentropy',\n",
    "    metrics=['accuracy']\n",
    ")"
   ]
  },
  {
   "attachments": {},
   "cell_type": "markdown",
   "metadata": {},
   "source": [
    "# Model training"
   ]
  },
  {
   "cell_type": "code",
   "execution_count": 56,
   "metadata": {},
   "outputs": [
    {
     "name": "stdout",
     "output_type": "stream",
     "text": [
      "Epoch 1/85\n",
      "801/801 [==============================] - 5s 6ms/step - loss: 2.0769 - accuracy: 0.4464 - val_loss: 0.2514 - val_accuracy: 0.9503\n",
      "\n",
      "Epoch 00001: saving model to model/keypoint_classifier/keypoint_classifier.hdf5\n",
      "Epoch 2/85\n",
      "801/801 [==============================] - 5s 6ms/step - loss: 0.2458 - accuracy: 0.9418 - val_loss: 0.1025 - val_accuracy: 0.9815\n",
      "\n",
      "Epoch 00002: saving model to model/keypoint_classifier/keypoint_classifier.hdf5\n",
      "Epoch 3/85\n",
      "801/801 [==============================] - 5s 6ms/step - loss: 0.1136 - accuracy: 0.9755 - val_loss: 0.0540 - val_accuracy: 0.9891\n",
      "\n",
      "Epoch 00003: saving model to model/keypoint_classifier/keypoint_classifier.hdf5\n",
      "Epoch 4/85\n",
      "801/801 [==============================] - 5s 6ms/step - loss: 0.0670 - accuracy: 0.9854 - val_loss: 0.0344 - val_accuracy: 0.9927\n",
      "\n",
      "Epoch 00004: saving model to model/keypoint_classifier/keypoint_classifier.hdf5\n",
      "Epoch 5/85\n",
      "801/801 [==============================] - 5s 6ms/step - loss: 0.0452 - accuracy: 0.9898 - val_loss: 0.0259 - val_accuracy: 0.9947\n",
      "\n",
      "Epoch 00005: saving model to model/keypoint_classifier/keypoint_classifier.hdf5\n",
      "Epoch 6/85\n",
      "801/801 [==============================] - 5s 6ms/step - loss: 0.0349 - accuracy: 0.9915 - val_loss: 0.0245 - val_accuracy: 0.9943\n",
      "\n",
      "Epoch 00006: saving model to model/keypoint_classifier/keypoint_classifier.hdf5\n",
      "Epoch 7/85\n",
      "801/801 [==============================] - 5s 6ms/step - loss: 0.0271 - accuracy: 0.9932 - val_loss: 0.0192 - val_accuracy: 0.9959\n",
      "\n",
      "Epoch 00007: saving model to model/keypoint_classifier/keypoint_classifier.hdf5\n",
      "Epoch 8/85\n",
      "801/801 [==============================] - 5s 6ms/step - loss: 0.0224 - accuracy: 0.9943 - val_loss: 0.0183 - val_accuracy: 0.9955\n",
      "\n",
      "Epoch 00008: saving model to model/keypoint_classifier/keypoint_classifier.hdf5\n",
      "Epoch 9/85\n",
      "801/801 [==============================] - 5s 6ms/step - loss: 0.0206 - accuracy: 0.9948 - val_loss: 0.0153 - val_accuracy: 0.9961\n",
      "\n",
      "Epoch 00009: saving model to model/keypoint_classifier/keypoint_classifier.hdf5\n",
      "Epoch 10/85\n",
      "801/801 [==============================] - 5s 6ms/step - loss: 0.0165 - accuracy: 0.9957 - val_loss: 0.0121 - val_accuracy: 0.9972\n",
      "\n",
      "Epoch 00010: saving model to model/keypoint_classifier/keypoint_classifier.hdf5\n",
      "Epoch 11/85\n",
      "801/801 [==============================] - 5s 6ms/step - loss: 0.0149 - accuracy: 0.9964 - val_loss: 0.0136 - val_accuracy: 0.9964\n",
      "\n",
      "Epoch 00011: saving model to model/keypoint_classifier/keypoint_classifier.hdf5\n",
      "Epoch 12/85\n",
      "801/801 [==============================] - 5s 6ms/step - loss: 0.0136 - accuracy: 0.9963 - val_loss: 0.0119 - val_accuracy: 0.9971\n",
      "\n",
      "Epoch 00012: saving model to model/keypoint_classifier/keypoint_classifier.hdf5\n",
      "Epoch 13/85\n",
      "801/801 [==============================] - 5s 6ms/step - loss: 0.0112 - accuracy: 0.9970 - val_loss: 0.0090 - val_accuracy: 0.9978\n",
      "\n",
      "Epoch 00013: saving model to model/keypoint_classifier/keypoint_classifier.hdf5\n",
      "Epoch 14/85\n",
      "801/801 [==============================] - 5s 6ms/step - loss: 0.0127 - accuracy: 0.9965 - val_loss: 0.0116 - val_accuracy: 0.9971\n",
      "\n",
      "Epoch 00014: saving model to model/keypoint_classifier/keypoint_classifier.hdf5\n",
      "Epoch 15/85\n",
      "801/801 [==============================] - 5s 6ms/step - loss: 0.0095 - accuracy: 0.9976 - val_loss: 0.0095 - val_accuracy: 0.9977\n",
      "\n",
      "Epoch 00015: saving model to model/keypoint_classifier/keypoint_classifier.hdf5\n",
      "Epoch 16/85\n",
      "801/801 [==============================] - 5s 6ms/step - loss: 0.0106 - accuracy: 0.9970 - val_loss: 0.0109 - val_accuracy: 0.9976\n",
      "\n",
      "Epoch 00016: saving model to model/keypoint_classifier/keypoint_classifier.hdf5\n",
      "Epoch 17/85\n",
      "801/801 [==============================] - 5s 6ms/step - loss: 0.0098 - accuracy: 0.9974 - val_loss: 0.0080 - val_accuracy: 0.9979\n",
      "\n",
      "Epoch 00017: saving model to model/keypoint_classifier/keypoint_classifier.hdf5\n",
      "Epoch 18/85\n",
      "801/801 [==============================] - 5s 6ms/step - loss: 0.0091 - accuracy: 0.9975 - val_loss: 0.0080 - val_accuracy: 0.9981\n",
      "\n",
      "Epoch 00018: saving model to model/keypoint_classifier/keypoint_classifier.hdf5\n",
      "Epoch 19/85\n",
      "801/801 [==============================] - 5s 6ms/step - loss: 0.0076 - accuracy: 0.9980 - val_loss: 0.0061 - val_accuracy: 0.9988\n",
      "\n",
      "Epoch 00019: saving model to model/keypoint_classifier/keypoint_classifier.hdf5\n",
      "Epoch 20/85\n",
      "801/801 [==============================] - 5s 6ms/step - loss: 0.0081 - accuracy: 0.9978 - val_loss: 0.0057 - val_accuracy: 0.9986\n",
      "\n",
      "Epoch 00020: saving model to model/keypoint_classifier/keypoint_classifier.hdf5\n",
      "Epoch 21/85\n",
      "801/801 [==============================] - 5s 6ms/step - loss: 0.0083 - accuracy: 0.9976 - val_loss: 0.0077 - val_accuracy: 0.9982\n",
      "\n",
      "Epoch 00021: saving model to model/keypoint_classifier/keypoint_classifier.hdf5\n",
      "Epoch 22/85\n",
      "801/801 [==============================] - 5s 6ms/step - loss: 0.0075 - accuracy: 0.9978 - val_loss: 0.0076 - val_accuracy: 0.9983\n",
      "\n",
      "Epoch 00022: saving model to model/keypoint_classifier/keypoint_classifier.hdf5\n",
      "Epoch 23/85\n",
      "801/801 [==============================] - 5s 6ms/step - loss: 0.0071 - accuracy: 0.9981 - val_loss: 0.0093 - val_accuracy: 0.9973\n",
      "\n",
      "Epoch 00023: saving model to model/keypoint_classifier/keypoint_classifier.hdf5\n",
      "Epoch 24/85\n",
      "801/801 [==============================] - 5s 6ms/step - loss: 0.0079 - accuracy: 0.9976 - val_loss: 0.0062 - val_accuracy: 0.9984\n",
      "\n",
      "Epoch 00024: saving model to model/keypoint_classifier/keypoint_classifier.hdf5\n",
      "Epoch 25/85\n",
      "801/801 [==============================] - 5s 6ms/step - loss: 0.0055 - accuracy: 0.9984 - val_loss: 0.0093 - val_accuracy: 0.9981\n",
      "\n",
      "Epoch 00025: saving model to model/keypoint_classifier/keypoint_classifier.hdf5\n",
      "Epoch 26/85\n",
      "801/801 [==============================] - 5s 6ms/step - loss: 0.0079 - accuracy: 0.9976 - val_loss: 0.0061 - val_accuracy: 0.9985\n",
      "\n",
      "Epoch 00026: saving model to model/keypoint_classifier/keypoint_classifier.hdf5\n",
      "Epoch 27/85\n",
      "801/801 [==============================] - 5s 6ms/step - loss: 0.0062 - accuracy: 0.9980 - val_loss: 0.0074 - val_accuracy: 0.9980\n",
      "\n",
      "Epoch 00027: saving model to model/keypoint_classifier/keypoint_classifier.hdf5\n",
      "Epoch 28/85\n",
      "801/801 [==============================] - 5s 6ms/step - loss: 0.0055 - accuracy: 0.9984 - val_loss: 0.0063 - val_accuracy: 0.9982\n",
      "\n",
      "Epoch 00028: saving model to model/keypoint_classifier/keypoint_classifier.hdf5\n",
      "Epoch 29/85\n",
      "801/801 [==============================] - 5s 6ms/step - loss: 0.0059 - accuracy: 0.9983 - val_loss: 0.0040 - val_accuracy: 0.9989\n",
      "\n",
      "Epoch 00029: saving model to model/keypoint_classifier/keypoint_classifier.hdf5\n",
      "Epoch 30/85\n",
      "801/801 [==============================] - 5s 6ms/step - loss: 0.0061 - accuracy: 0.9981 - val_loss: 0.0043 - val_accuracy: 0.9989\n",
      "\n",
      "Epoch 00030: saving model to model/keypoint_classifier/keypoint_classifier.hdf5\n",
      "Epoch 31/85\n",
      "801/801 [==============================] - 5s 6ms/step - loss: 0.0048 - accuracy: 0.9986 - val_loss: 0.0049 - val_accuracy: 0.9988\n",
      "\n",
      "Epoch 00031: saving model to model/keypoint_classifier/keypoint_classifier.hdf5\n",
      "Epoch 32/85\n",
      "801/801 [==============================] - 5s 6ms/step - loss: 0.0044 - accuracy: 0.9988 - val_loss: 0.0051 - val_accuracy: 0.9987\n",
      "\n",
      "Epoch 00032: saving model to model/keypoint_classifier/keypoint_classifier.hdf5\n",
      "Epoch 33/85\n",
      "801/801 [==============================] - 5s 6ms/step - loss: 0.0050 - accuracy: 0.9987 - val_loss: 0.0069 - val_accuracy: 0.9986\n",
      "\n",
      "Epoch 00033: saving model to model/keypoint_classifier/keypoint_classifier.hdf5\n",
      "Epoch 34/85\n",
      "801/801 [==============================] - 5s 6ms/step - loss: 0.0064 - accuracy: 0.9980 - val_loss: 0.0038 - val_accuracy: 0.9991\n",
      "\n",
      "Epoch 00034: saving model to model/keypoint_classifier/keypoint_classifier.hdf5\n",
      "Epoch 35/85\n",
      "801/801 [==============================] - 5s 6ms/step - loss: 0.0047 - accuracy: 0.9986 - val_loss: 0.0047 - val_accuracy: 0.9989\n",
      "\n",
      "Epoch 00035: saving model to model/keypoint_classifier/keypoint_classifier.hdf5\n",
      "Epoch 36/85\n",
      "801/801 [==============================] - 5s 6ms/step - loss: 0.0048 - accuracy: 0.9983 - val_loss: 0.0051 - val_accuracy: 0.9988\n",
      "\n",
      "Epoch 00036: saving model to model/keypoint_classifier/keypoint_classifier.hdf5\n",
      "Epoch 37/85\n",
      "801/801 [==============================] - 5s 6ms/step - loss: 0.0048 - accuracy: 0.9987 - val_loss: 0.0035 - val_accuracy: 0.9991\n"
     ]
    },
    {
     "name": "stdout",
     "output_type": "stream",
     "text": [
      "\n",
      "Epoch 00037: saving model to model/keypoint_classifier/keypoint_classifier.hdf5\n",
      "Epoch 38/85\n",
      "801/801 [==============================] - 5s 6ms/step - loss: 0.0046 - accuracy: 0.9985 - val_loss: 0.0040 - val_accuracy: 0.9990\n",
      "\n",
      "Epoch 00038: saving model to model/keypoint_classifier/keypoint_classifier.hdf5\n",
      "Epoch 39/85\n",
      "801/801 [==============================] - 5s 6ms/step - loss: 0.0048 - accuracy: 0.9986 - val_loss: 0.0043 - val_accuracy: 0.9988\n",
      "\n",
      "Epoch 00039: saving model to model/keypoint_classifier/keypoint_classifier.hdf5\n",
      "Epoch 40/85\n",
      "801/801 [==============================] - 5s 6ms/step - loss: 0.0035 - accuracy: 0.9990 - val_loss: 0.0047 - val_accuracy: 0.9989\n",
      "\n",
      "Epoch 00040: saving model to model/keypoint_classifier/keypoint_classifier.hdf5\n",
      "Epoch 41/85\n",
      "801/801 [==============================] - 5s 6ms/step - loss: 0.0056 - accuracy: 0.9982 - val_loss: 0.0039 - val_accuracy: 0.9991\n",
      "\n",
      "Epoch 00041: saving model to model/keypoint_classifier/keypoint_classifier.hdf5\n",
      "Epoch 42/85\n",
      "801/801 [==============================] - 5s 6ms/step - loss: 0.0032 - accuracy: 0.9990 - val_loss: 0.0035 - val_accuracy: 0.9992\n",
      "\n",
      "Epoch 00042: saving model to model/keypoint_classifier/keypoint_classifier.hdf5\n",
      "Epoch 43/85\n",
      "801/801 [==============================] - 5s 6ms/step - loss: 0.0034 - accuracy: 0.9989 - val_loss: 0.0038 - val_accuracy: 0.9990\n",
      "\n",
      "Epoch 00043: saving model to model/keypoint_classifier/keypoint_classifier.hdf5\n",
      "Epoch 44/85\n",
      "801/801 [==============================] - 5s 6ms/step - loss: 0.0041 - accuracy: 0.9988 - val_loss: 0.0042 - val_accuracy: 0.9991\n",
      "\n",
      "Epoch 00044: saving model to model/keypoint_classifier/keypoint_classifier.hdf5\n",
      "Epoch 45/85\n",
      "801/801 [==============================] - 4s 5ms/step - loss: 0.0038 - accuracy: 0.9990 - val_loss: 0.0035 - val_accuracy: 0.9993\n",
      "\n",
      "Epoch 00045: saving model to model/keypoint_classifier/keypoint_classifier.hdf5\n",
      "Epoch 46/85\n",
      "801/801 [==============================] - 5s 6ms/step - loss: 0.0031 - accuracy: 0.9991 - val_loss: 0.0036 - val_accuracy: 0.9990\n",
      "\n",
      "Epoch 00046: saving model to model/keypoint_classifier/keypoint_classifier.hdf5\n",
      "Epoch 47/85\n",
      "801/801 [==============================] - 5s 6ms/step - loss: 0.0037 - accuracy: 0.9987 - val_loss: 0.0038 - val_accuracy: 0.9990\n",
      "\n",
      "Epoch 00047: saving model to model/keypoint_classifier/keypoint_classifier.hdf5\n",
      "Epoch 48/85\n",
      "801/801 [==============================] - 5s 6ms/step - loss: 0.0037 - accuracy: 0.9988 - val_loss: 0.0038 - val_accuracy: 0.9989\n",
      "\n",
      "Epoch 00048: saving model to model/keypoint_classifier/keypoint_classifier.hdf5\n",
      "Epoch 49/85\n",
      "801/801 [==============================] - 4s 5ms/step - loss: 0.0052 - accuracy: 0.9985 - val_loss: 0.0038 - val_accuracy: 0.9992\n",
      "\n",
      "Epoch 00049: saving model to model/keypoint_classifier/keypoint_classifier.hdf5\n",
      "Epoch 50/85\n",
      "801/801 [==============================] - 3s 3ms/step - loss: 0.0040 - accuracy: 0.9988 - val_loss: 0.0043 - val_accuracy: 0.9987\n",
      "\n",
      "Epoch 00050: saving model to model/keypoint_classifier/keypoint_classifier.hdf5\n",
      "Epoch 51/85\n",
      "801/801 [==============================] - 3s 3ms/step - loss: 0.0037 - accuracy: 0.9989 - val_loss: 0.0038 - val_accuracy: 0.9992\n",
      "\n",
      "Epoch 00051: saving model to model/keypoint_classifier/keypoint_classifier.hdf5\n",
      "Epoch 52/85\n",
      "801/801 [==============================] - 3s 3ms/step - loss: 0.0035 - accuracy: 0.9990 - val_loss: 0.0038 - val_accuracy: 0.9991\n",
      "\n",
      "Epoch 00052: saving model to model/keypoint_classifier/keypoint_classifier.hdf5\n",
      "Epoch 53/85\n",
      "801/801 [==============================] - 3s 4ms/step - loss: 0.0027 - accuracy: 0.9992 - val_loss: 0.0051 - val_accuracy: 0.9989\n",
      "\n",
      "Epoch 00053: saving model to model/keypoint_classifier/keypoint_classifier.hdf5\n",
      "Epoch 54/85\n",
      "801/801 [==============================] - 3s 3ms/step - loss: 0.0045 - accuracy: 0.9986 - val_loss: 0.0040 - val_accuracy: 0.9990\n",
      "\n",
      "Epoch 00054: saving model to model/keypoint_classifier/keypoint_classifier.hdf5\n",
      "Epoch 55/85\n",
      "801/801 [==============================] - 3s 4ms/step - loss: 0.0023 - accuracy: 0.9993 - val_loss: 0.0043 - val_accuracy: 0.9992\n",
      "\n",
      "Epoch 00055: saving model to model/keypoint_classifier/keypoint_classifier.hdf5\n",
      "Epoch 56/85\n",
      "801/801 [==============================] - 3s 4ms/step - loss: 0.0029 - accuracy: 0.9991 - val_loss: 0.0042 - val_accuracy: 0.9992\n",
      "\n",
      "Epoch 00056: saving model to model/keypoint_classifier/keypoint_classifier.hdf5\n",
      "Epoch 57/85\n",
      "801/801 [==============================] - 3s 4ms/step - loss: 0.0049 - accuracy: 0.9985 - val_loss: 0.0037 - val_accuracy: 0.9993\n",
      "\n",
      "Epoch 00057: saving model to model/keypoint_classifier/keypoint_classifier.hdf5\n",
      "Epoch 58/85\n",
      "801/801 [==============================] - 3s 4ms/step - loss: 0.0027 - accuracy: 0.9990 - val_loss: 0.0047 - val_accuracy: 0.9991\n",
      "\n",
      "Epoch 00058: saving model to model/keypoint_classifier/keypoint_classifier.hdf5\n",
      "Epoch 59/85\n",
      "801/801 [==============================] - 3s 4ms/step - loss: 0.0031 - accuracy: 0.9989 - val_loss: 0.0031 - val_accuracy: 0.9994\n",
      "\n",
      "Epoch 00059: saving model to model/keypoint_classifier/keypoint_classifier.hdf5\n",
      "Epoch 60/85\n",
      "801/801 [==============================] - 3s 4ms/step - loss: 0.0027 - accuracy: 0.9993 - val_loss: 0.0034 - val_accuracy: 0.9992\n",
      "\n",
      "Epoch 00060: saving model to model/keypoint_classifier/keypoint_classifier.hdf5\n",
      "Epoch 61/85\n",
      "801/801 [==============================] - 3s 3ms/step - loss: 0.0031 - accuracy: 0.9990 - val_loss: 0.0045 - val_accuracy: 0.9989\n",
      "\n",
      "Epoch 00061: saving model to model/keypoint_classifier/keypoint_classifier.hdf5\n",
      "Epoch 62/85\n",
      "801/801 [==============================] - 3s 4ms/step - loss: 0.0044 - accuracy: 0.9988 - val_loss: 0.0036 - val_accuracy: 0.9992\n",
      "\n",
      "Epoch 00062: saving model to model/keypoint_classifier/keypoint_classifier.hdf5\n",
      "Epoch 63/85\n",
      "801/801 [==============================] - 3s 3ms/step - loss: 0.0021 - accuracy: 0.9994 - val_loss: 0.0046 - val_accuracy: 0.9988\n",
      "\n",
      "Epoch 00063: saving model to model/keypoint_classifier/keypoint_classifier.hdf5\n",
      "Epoch 64/85\n",
      "801/801 [==============================] - 3s 3ms/step - loss: 0.0036 - accuracy: 0.9988 - val_loss: 0.0033 - val_accuracy: 0.9994\n",
      "\n",
      "Epoch 00064: saving model to model/keypoint_classifier/keypoint_classifier.hdf5\n",
      "Epoch 65/85\n",
      "801/801 [==============================] - 2s 3ms/step - loss: 0.0032 - accuracy: 0.9990 - val_loss: 0.0035 - val_accuracy: 0.9992\n",
      "\n",
      "Epoch 00065: saving model to model/keypoint_classifier/keypoint_classifier.hdf5\n",
      "Epoch 66/85\n",
      "801/801 [==============================] - 3s 3ms/step - loss: 0.0030 - accuracy: 0.9990 - val_loss: 0.0050 - val_accuracy: 0.9989\n",
      "\n",
      "Epoch 00066: saving model to model/keypoint_classifier/keypoint_classifier.hdf5\n",
      "Epoch 67/85\n",
      "801/801 [==============================] - 3s 4ms/step - loss: 0.0031 - accuracy: 0.9990 - val_loss: 0.0038 - val_accuracy: 0.9991\n",
      "\n",
      "Epoch 00067: saving model to model/keypoint_classifier/keypoint_classifier.hdf5\n",
      "Epoch 68/85\n",
      "801/801 [==============================] - 3s 4ms/step - loss: 0.0031 - accuracy: 0.9990 - val_loss: 0.0032 - val_accuracy: 0.9994\n",
      "\n",
      "Epoch 00068: saving model to model/keypoint_classifier/keypoint_classifier.hdf5\n",
      "Epoch 69/85\n",
      "801/801 [==============================] - 3s 3ms/step - loss: 0.0024 - accuracy: 0.9990 - val_loss: 0.0046 - val_accuracy: 0.9992\n",
      "\n",
      "Epoch 00069: saving model to model/keypoint_classifier/keypoint_classifier.hdf5\n",
      "Epoch 70/85\n",
      "801/801 [==============================] - 2s 3ms/step - loss: 0.0027 - accuracy: 0.9992 - val_loss: 0.0055 - val_accuracy: 0.9990\n",
      "\n",
      "Epoch 00070: saving model to model/keypoint_classifier/keypoint_classifier.hdf5\n",
      "Epoch 71/85\n",
      "801/801 [==============================] - 3s 3ms/step - loss: 0.0037 - accuracy: 0.9992 - val_loss: 0.0048 - val_accuracy: 0.9990\n",
      "\n",
      "Epoch 00071: saving model to model/keypoint_classifier/keypoint_classifier.hdf5\n",
      "Epoch 72/85\n",
      "801/801 [==============================] - 3s 3ms/step - loss: 0.0022 - accuracy: 0.9993 - val_loss: 0.0040 - val_accuracy: 0.9989\n",
      "\n",
      "Epoch 00072: saving model to model/keypoint_classifier/keypoint_classifier.hdf5\n",
      "Epoch 73/85\n",
      "801/801 [==============================] - 2s 3ms/step - loss: 0.0024 - accuracy: 0.9992 - val_loss: 0.0041 - val_accuracy: 0.9989\n",
      "\n",
      "Epoch 00073: saving model to model/keypoint_classifier/keypoint_classifier.hdf5\n",
      "Epoch 74/85\n",
      "801/801 [==============================] - 2s 3ms/step - loss: 0.0025 - accuracy: 0.9992 - val_loss: 0.0040 - val_accuracy: 0.9991\n",
      "\n",
      "Epoch 00074: saving model to model/keypoint_classifier/keypoint_classifier.hdf5\n",
      "Epoch 75/85\n",
      "801/801 [==============================] - 3s 3ms/step - loss: 0.0053 - accuracy: 0.9986 - val_loss: 0.0050 - val_accuracy: 0.9989\n",
      "\n",
      "Epoch 00075: saving model to model/keypoint_classifier/keypoint_classifier.hdf5\n",
      "Epoch 76/85\n",
      "801/801 [==============================] - 3s 4ms/step - loss: 0.0033 - accuracy: 0.9990 - val_loss: 0.0064 - val_accuracy: 0.9986\n",
      "\n",
      "Epoch 00076: saving model to model/keypoint_classifier/keypoint_classifier.hdf5\n",
      "Epoch 77/85\n",
      "801/801 [==============================] - 5s 6ms/step - loss: 0.0026 - accuracy: 0.9991 - val_loss: 0.0051 - val_accuracy: 0.9989\n",
      "\n",
      "Epoch 00077: saving model to model/keypoint_classifier/keypoint_classifier.hdf5\n",
      "Epoch 78/85\n",
      "801/801 [==============================] - 5s 6ms/step - loss: 0.0027 - accuracy: 0.9992 - val_loss: 0.0040 - val_accuracy: 0.9991\n",
      "\n",
      "Epoch 00078: saving model to model/keypoint_classifier/keypoint_classifier.hdf5\n",
      "Epoch 79/85\n",
      "801/801 [==============================] - 5s 6ms/step - loss: 0.0046 - accuracy: 0.9987 - val_loss: 0.0033 - val_accuracy: 0.9994\n",
      "\n",
      "Epoch 00079: saving model to model/keypoint_classifier/keypoint_classifier.hdf5\n",
      "Epoch 00079: early stopping\n"
     ]
    },
    {
     "data": {
      "text/plain": [
       "<tensorflow.python.keras.callbacks.History at 0x7f0f3c5111c0>"
      ]
     },
     "execution_count": 56,
     "metadata": {},
     "output_type": "execute_result"
    }
   ],
   "source": [
    "model.fit(\n",
    "    X_train,\n",
    "    y_train,\n",
    "    epochs=85,\n",
    "    batch_size=128,\n",
    "    validation_data=(X_test, y_test),\n",
    "    callbacks=[cp_callback, es_callback]\n",
    ")"
   ]
  },
  {
   "cell_type": "code",
   "execution_count": 57,
   "metadata": {},
   "outputs": [
    {
     "name": "stdout",
     "output_type": "stream",
     "text": [
      "267/267 [==============================] - 1s 4ms/step - loss: 0.0033 - accuracy: 0.9994\n"
     ]
    }
   ],
   "source": [
    "val_loss, val_acc = model.evaluate(X_test, y_test, batch_size=128)"
   ]
  },
  {
   "cell_type": "code",
   "execution_count": 58,
   "metadata": {},
   "outputs": [],
   "source": [
    "# Loading the saved model\n",
    "model = tf.keras.models.load_model(model_save_path)"
   ]
  },
  {
   "cell_type": "code",
   "execution_count": 59,
   "metadata": {},
   "outputs": [
    {
     "name": "stdout",
     "output_type": "stream",
     "text": [
      "[0.00000000e+00 3.34922321e-32 2.42005751e-27 1.58418049e-25\n",
      " 1.95412532e-28 5.52015397e-29 1.01707525e-36 1.52853386e-31\n",
      " 3.21210828e-16 5.96794414e-26 5.11285183e-21 2.48444135e-27\n",
      " 4.84941652e-22 3.71093391e-23 1.54751861e-17 0.00000000e+00\n",
      " 0.00000000e+00 8.72668027e-14 2.11106663e-22 1.24121769e-13\n",
      " 9.45734341e-32 2.83350892e-06 1.78559385e-22 1.68223526e-37\n",
      " 9.99996901e-01 2.14448051e-24 4.16471416e-23 7.96910434e-18\n",
      " 2.53450717e-26 4.71057025e-23 5.95196736e-24 1.25990945e-11\n",
      " 1.23601827e-16 8.85823326e-08 1.56234369e-22 1.55680555e-36\n",
      " 0.00000000e+00 5.16954418e-38 2.06894109e-36 6.36052732e-27\n",
      " 1.21441193e-12 1.83726371e-07 1.60796958e-23]\n",
      "24\n"
     ]
    }
   ],
   "source": [
    "# Inference test\n",
    "predict_result = model.predict(np.array([X_test[0]]))\n",
    "print(np.squeeze(predict_result))\n",
    "print(np.argmax(np.squeeze(predict_result)))"
   ]
  },
  {
   "attachments": {},
   "cell_type": "markdown",
   "metadata": {},
   "source": [
    "# Confusion matrix"
   ]
  },
  {
   "cell_type": "code",
   "execution_count": 60,
   "metadata": {},
   "outputs": [
    {
     "data": {
      "image/png": "[encoded data removed]",
      "text/plain": [
       "<Figure size 504x432 with 2 Axes>"
      ]
     },
     "metadata": {
      "needs_background": "light"
     },
     "output_type": "display_data"
    },
    {
     "name": "stdout",
     "output_type": "stream",
     "text": [
      "Classification Report\n",
      "              precision    recall  f1-score   support\n",
      "\n",
      "           0       1.00      1.00      1.00       852\n",
      "           1       1.00      1.00      1.00       747\n",
      "           2       1.00      1.00      1.00       860\n",
      "           3       1.00      1.00      1.00       845\n",
      "           4       1.00      1.00      1.00       898\n",
      "           5       1.00      1.00      1.00       740\n",
      "           6       1.00      1.00      1.00       778\n",
      "           7       1.00      1.00      1.00       753\n",
      "           8       1.00      1.00      1.00       753\n",
      "           9       1.00      1.00      1.00       786\n",
      "          10       1.00      1.00      1.00       762\n",
      "          11       1.00      1.00      1.00       954\n",
      "          12       1.00      1.00      1.00      1140\n",
      "          13       1.00      1.00      1.00       760\n",
      "          14       1.00      1.00      1.00       815\n",
      "          15       1.00      1.00      1.00       695\n",
      "          16       1.00      1.00      1.00       801\n",
      "          17       0.99      1.00      1.00       804\n",
      "          18       1.00      1.00      1.00       796\n",
      "          19       1.00      1.00      1.00       726\n",
      "          20       1.00      1.00      1.00       700\n",
      "          21       1.00      1.00      1.00       730\n",
      "          22       1.00      1.00      1.00       762\n",
      "          23       1.00      1.00      1.00       773\n",
      "          24       1.00      1.00      1.00       748\n",
      "          25       1.00      1.00      1.00       987\n",
      "          26       1.00      1.00      1.00       762\n",
      "          27       1.00      1.00      1.00       689\n",
      "          28       1.00      1.00      1.00       759\n",
      "          29       1.00      1.00      1.00       775\n",
      "          30       1.00      1.00      1.00       740\n",
      "          31       1.00      1.00      1.00       763\n",
      "          32       1.00      1.00      1.00       793\n",
      "          33       1.00      0.99      1.00      1043\n",
      "          34       1.00      1.00      1.00       747\n",
      "          35       1.00      1.00      1.00       780\n",
      "          36       1.00      1.00      1.00       779\n",
      "          37       1.00      1.00      1.00       753\n",
      "          38       1.00      1.00      1.00       720\n",
      "          39       1.00      1.00      1.00       711\n",
      "          40       1.00      1.00      1.00       790\n",
      "          41       1.00      1.00      1.00       727\n",
      "          42       1.00      1.00      1.00       858\n",
      "\n",
      "    accuracy                           1.00     34154\n",
      "   macro avg       1.00      1.00      1.00     34154\n",
      "weighted avg       1.00      1.00      1.00     34154\n",
      "\n"
     ]
    }
   ],
   "source": [
    "import pandas as pd\n",
    "import seaborn as sns\n",
    "import matplotlib.pyplot as plt\n",
    "from sklearn.metrics import confusion_matrix, classification_report\n",
    "\n",
    "def print_confusion_matrix(y_true, y_pred, report=True):\n",
    "    labels = sorted(list(set(y_true)))\n",
    "    cmx_data = confusion_matrix(y_true, y_pred, labels=labels)\n",
    "    \n",
    "    df_cmx = pd.DataFrame(cmx_data, index=labels, columns=labels)\n",
    " \n",
    "    fig, ax = plt.subplots(figsize=(7, 6))\n",
    "    sns.heatmap(df_cmx, annot=True, fmt='g' ,square=False)\n",
    "    ax.set_ylim(len(set(y_true)), 0)\n",
    "    plt.show()\n",
    "    \n",
    "    if report:\n",
    "        print('Classification Report')\n",
    "        print(classification_report(y_test, y_pred))\n",
    "\n",
    "Y_pred = model.predict(X_test)\n",
    "y_pred = np.argmax(Y_pred, axis=1)\n",
    "\n",
    "print_confusion_matrix(y_test, y_pred)"
   ]
  },
  {
   "attachments": {},
   "cell_type": "markdown",
   "metadata": {},
   "source": [
    "# Convert to model for Tensorflow-Lite"
   ]
  },
  {
   "cell_type": "code",
   "execution_count": 61,
   "metadata": {},
   "outputs": [],
   "source": [
    "# Save as a model dedicated to inference\n",
    "model.save(model_save_path, include_optimizer=False)"
   ]
  },
  {
   "cell_type": "code",
   "execution_count": 62,
   "metadata": {},
   "outputs": [
    {
     "name": "stderr",
     "output_type": "stream",
     "text": [
      "2023-01-29 14:42:05.940727: W tensorflow/python/util/util.cc:348] Sets are not currently considered sequences, but this may change in the future, so consider avoiding using them.\n"
     ]
    },
    {
     "name": "stdout",
     "output_type": "stream",
     "text": [
      "INFO:tensorflow:Assets written to: /tmp/tmp4tes_k2h/assets\n"
     ]
    },
    {
     "name": "stderr",
     "output_type": "stream",
     "text": [
      "2023-01-29 14:42:06.308731: I tensorflow/stream_executor/cuda/cuda_gpu_executor.cc:941] successful NUMA node read from SysFS had negative value (-1), but there must be at least one NUMA node, so returning NUMA node zero\n",
      "2023-01-29 14:42:06.308952: I tensorflow/core/grappler/devices.cc:69] Number of eligible GPUs (core count >= 8, compute capability >= 0.0): 1\n",
      "2023-01-29 14:42:06.309411: I tensorflow/core/grappler/clusters/single_machine.cc:356] Starting new session\n",
      "2023-01-29 14:42:06.309708: I tensorflow/compiler/jit/xla_gpu_device.cc:99] Not creating XLA devices, tf_xla_enable_xla_devices not set\n",
      "2023-01-29 14:42:06.309826: I tensorflow/stream_executor/cuda/cuda_gpu_executor.cc:941] successful NUMA node read from SysFS had negative value (-1), but there must be at least one NUMA node, so returning NUMA node zero\n",
      "2023-01-29 14:42:06.310015: I tensorflow/core/common_runtime/gpu/gpu_device.cc:1720] Found device 0 with properties: \n",
      "pciBusID: 0000:01:00.0 name: NVIDIA GeForce GTX 1060 with Max-Q Design computeCapability: 6.1\n",
      "coreClock: 1.48GHz coreCount: 10 deviceMemorySize: 5.94GiB deviceMemoryBandwidth: 178.99GiB/s\n",
      "2023-01-29 14:42:06.310043: I tensorflow/stream_executor/platform/default/dso_loader.cc:49] Successfully opened dynamic library libcudart.so.10.1\n",
      "2023-01-29 14:42:06.310069: I tensorflow/stream_executor/platform/default/dso_loader.cc:49] Successfully opened dynamic library libcublas.so.10\n",
      "2023-01-29 14:42:06.310082: I tensorflow/stream_executor/platform/default/dso_loader.cc:49] Successfully opened dynamic library libcublasLt.so.10\n",
      "2023-01-29 14:42:06.310095: I tensorflow/stream_executor/platform/default/dso_loader.cc:49] Successfully opened dynamic library libcufft.so.10\n",
      "2023-01-29 14:42:06.310107: I tensorflow/stream_executor/platform/default/dso_loader.cc:49] Successfully opened dynamic library libcurand.so.10\n",
      "2023-01-29 14:42:06.310119: I tensorflow/stream_executor/platform/default/dso_loader.cc:49] Successfully opened dynamic library libcusolver.so.10\n",
      "2023-01-29 14:42:06.310131: I tensorflow/stream_executor/platform/default/dso_loader.cc:49] Successfully opened dynamic library libcusparse.so.10\n",
      "2023-01-29 14:42:06.310143: I tensorflow/stream_executor/platform/default/dso_loader.cc:49] Successfully opened dynamic library libcudnn.so.7\n",
      "2023-01-29 14:42:06.310193: I tensorflow/stream_executor/cuda/cuda_gpu_executor.cc:941] successful NUMA node read from SysFS had negative value (-1), but there must be at least one NUMA node, so returning NUMA node zero\n",
      "2023-01-29 14:42:06.310402: I tensorflow/stream_executor/cuda/cuda_gpu_executor.cc:941] successful NUMA node read from SysFS had negative value (-1), but there must be at least one NUMA node, so returning NUMA node zero\n",
      "2023-01-29 14:42:06.310564: I tensorflow/core/common_runtime/gpu/gpu_device.cc:1862] Adding visible gpu devices: 0\n",
      "2023-01-29 14:42:06.310586: I tensorflow/core/common_runtime/gpu/gpu_device.cc:1261] Device interconnect StreamExecutor with strength 1 edge matrix:\n",
      "2023-01-29 14:42:06.310591: I tensorflow/core/common_runtime/gpu/gpu_device.cc:1267]      0 \n",
      "2023-01-29 14:42:06.310595: I tensorflow/core/common_runtime/gpu/gpu_device.cc:1280] 0:   N \n",
      "2023-01-29 14:42:06.310667: I tensorflow/stream_executor/cuda/cuda_gpu_executor.cc:941] successful NUMA node read from SysFS had negative value (-1), but there must be at least one NUMA node, so returning NUMA node zero\n",
      "2023-01-29 14:42:06.310873: I tensorflow/stream_executor/cuda/cuda_gpu_executor.cc:941] successful NUMA node read from SysFS had negative value (-1), but there must be at least one NUMA node, so returning NUMA node zero\n",
      "2023-01-29 14:42:06.311044: I tensorflow/core/common_runtime/gpu/gpu_device.cc:1406] Created TensorFlow device (/job:localhost/replica:0/task:0/device:GPU:0 with 5458 MB memory) -> physical GPU (device: 0, name: NVIDIA GeForce GTX 1060 with Max-Q Design, pci bus id: 0000:01:00.0, compute capability: 6.1)\n",
      "2023-01-29 14:42:06.314103: I tensorflow/core/grappler/optimizers/meta_optimizer.cc:928] Optimization results for grappler item: graph_to_optimize\n",
      "  function_optimizer: function_optimizer did nothing. time = 0.001ms.\n",
      "  function_optimizer: function_optimizer did nothing. time = 0ms.\n",
      "\n",
      "2023-01-29 14:42:06.340854: W tensorflow/compiler/mlir/lite/python/tf_tfl_flatbuffer_helpers.cc:316] Ignored output_format.\n",
      "2023-01-29 14:42:06.340877: W tensorflow/compiler/mlir/lite/python/tf_tfl_flatbuffer_helpers.cc:319] Ignored drop_control_dependency.\n",
      "2023-01-29 14:42:06.369590: I tensorflow/compiler/jit/xla_gpu_device.cc:99] Not creating XLA devices, tf_xla_enable_xla_devices not set\n",
      "2023-01-29 14:42:06.369765: I tensorflow/stream_executor/cuda/cuda_gpu_executor.cc:941] successful NUMA node read from SysFS had negative value (-1), but there must be at least one NUMA node, so returning NUMA node zero\n",
      "2023-01-29 14:42:06.369984: I tensorflow/core/common_runtime/gpu/gpu_device.cc:1720] Found device 0 with properties: \n",
      "pciBusID: 0000:01:00.0 name: NVIDIA GeForce GTX 1060 with Max-Q Design computeCapability: 6.1\n",
      "coreClock: 1.48GHz coreCount: 10 deviceMemorySize: 5.94GiB deviceMemoryBandwidth: 178.99GiB/s\n",
      "2023-01-29 14:42:06.370008: I tensorflow/stream_executor/platform/default/dso_loader.cc:49] Successfully opened dynamic library libcudart.so.10.1\n",
      "2023-01-29 14:42:06.370031: I tensorflow/stream_executor/platform/default/dso_loader.cc:49] Successfully opened dynamic library libcublas.so.10\n",
      "2023-01-29 14:42:06.370046: I tensorflow/stream_executor/platform/default/dso_loader.cc:49] Successfully opened dynamic library libcublasLt.so.10\n",
      "2023-01-29 14:42:06.370058: I tensorflow/stream_executor/platform/default/dso_loader.cc:49] Successfully opened dynamic library libcufft.so.10\n",
      "2023-01-29 14:42:06.370070: I tensorflow/stream_executor/platform/default/dso_loader.cc:49] Successfully opened dynamic library libcurand.so.10\n",
      "2023-01-29 14:42:06.370082: I tensorflow/stream_executor/platform/default/dso_loader.cc:49] Successfully opened dynamic library libcusolver.so.10\n",
      "2023-01-29 14:42:06.370095: I tensorflow/stream_executor/platform/default/dso_loader.cc:49] Successfully opened dynamic library libcusparse.so.10\n",
      "2023-01-29 14:42:06.370107: I tensorflow/stream_executor/platform/default/dso_loader.cc:49] Successfully opened dynamic library libcudnn.so.7\n",
      "2023-01-29 14:42:06.370169: I tensorflow/stream_executor/cuda/cuda_gpu_executor.cc:941] successful NUMA node read from SysFS had negative value (-1), but there must be at least one "
     ]
    },
    {
     "data": {
      "text/plain": [
       "34080"
      ]
     },
     "execution_count": 62,
     "metadata": {},
     "output_type": "execute_result"
    },
    {
     "name": "stderr",
     "output_type": "stream",
     "text": [
      "NUMA node, so returning NUMA node zero\n",
      "2023-01-29 14:42:06.370388: I tensorflow/stream_executor/cuda/cuda_gpu_executor.cc:941] successful NUMA node read from SysFS had negative value (-1), but there must be at least one NUMA node, so returning NUMA node zero\n",
      "2023-01-29 14:42:06.370552: I tensorflow/core/common_runtime/gpu/gpu_device.cc:1862] Adding visible gpu devices: 0\n",
      "2023-01-29 14:42:06.370573: I tensorflow/core/common_runtime/gpu/gpu_device.cc:1261] Device interconnect StreamExecutor with strength 1 edge matrix:\n",
      "2023-01-29 14:42:06.370578: I tensorflow/core/common_runtime/gpu/gpu_device.cc:1267]      0 \n",
      "2023-01-29 14:42:06.370582: I tensorflow/core/common_runtime/gpu/gpu_device.cc:1280] 0:   N \n",
      "2023-01-29 14:42:06.370656: I tensorflow/stream_executor/cuda/cuda_gpu_executor.cc:941] successful NUMA node read from SysFS had negative value (-1), but there must be at least one NUMA node, so returning NUMA node zero\n",
      "2023-01-29 14:42:06.370879: I tensorflow/stream_executor/cuda/cuda_gpu_executor.cc:941] successful NUMA node read from SysFS had negative value (-1), but there must be at least one NUMA node, so returning NUMA node zero\n",
      "2023-01-29 14:42:06.371058: I tensorflow/core/common_runtime/gpu/gpu_device.cc:1406] Created TensorFlow device (/job:localhost/replica:0/task:0/device:GPU:0 with 5458 MB memory) -> physical GPU (device: 0, name: NVIDIA GeForce GTX 1060 with Max-Q Design, pci bus id: 0000:01:00.0, compute capability: 6.1)\n"
     ]
    }
   ],
   "source": [
    "# Transform model (quantization)\n",
    "tflite_save_path = 'model/keypoint_classifier/keypoint_classifier.tflite'\n",
    "\n",
    "converter = tf.lite.TFLiteConverter.from_keras_model(model)\n",
    "converter.optimizations = [tf.lite.Optimize.DEFAULT]\n",
    "tflite_quantized_model = converter.convert()\n",
    "\n",
    "open(tflite_save_path, 'wb').write(tflite_quantized_model)"
   ]
  },
  {
   "attachments": {},
   "cell_type": "markdown",
   "metadata": {},
   "source": [
    "# Inference test"
   ]
  },
  {
   "cell_type": "code",
   "execution_count": 63,
   "metadata": {},
   "outputs": [],
   "source": [
    "interpreter = tf.lite.Interpreter(model_path=tflite_save_path)\n",
    "interpreter.allocate_tensors()"
   ]
  },
  {
   "cell_type": "code",
   "execution_count": 64,
   "metadata": {},
   "outputs": [],
   "source": [
    "# Get I / O tensor\n",
    "input_details = interpreter.get_input_details()\n",
    "output_details = interpreter.get_output_details()"
   ]
  },
  {
   "cell_type": "code",
   "execution_count": 65,
   "metadata": {},
   "outputs": [],
   "source": [
    "interpreter.set_tensor(input_details[0]['index'], np.array([X_test[0]]))"
   ]
  },
  {
   "cell_type": "code",
   "execution_count": 66,
   "metadata": {
    "scrolled": true
   },
   "outputs": [
    {
     "name": "stdout",
     "output_type": "stream",
     "text": [
      "CPU times: user 577 µs, sys: 50 µs, total: 627 µs\n",
      "Wall time: 593 µs\n"
     ]
    }
   ],
   "source": [
    "%%time\n",
    "# Inference implementation\n",
    "interpreter.invoke()\n",
    "tflite_results = interpreter.get_tensor(output_details[0]['index'])"
   ]
  },
  {
   "cell_type": "code",
   "execution_count": 67,
   "metadata": {},
   "outputs": [
    {
     "name": "stdout",
     "output_type": "stream",
     "text": [
      "[0.0000000e+00 1.3297298e-32 9.0895689e-28 1.1146304e-25 1.2764908e-28\n",
      " 4.2781236e-29 7.8318082e-37 5.3732734e-32 9.9944640e-17 2.9762551e-26\n",
      " 2.2852813e-21 1.1177375e-27 1.4249403e-22 2.4863596e-23 5.3128988e-18\n",
      " 0.0000000e+00 0.0000000e+00 3.0610080e-14 1.0717678e-22 9.6352017e-14\n",
      " 1.0048711e-31 3.7912928e-06 1.5639463e-22 1.4321445e-37 9.9999607e-01\n",
      " 9.0433417e-25 7.7603693e-23 4.0372332e-18 1.4734991e-26 1.8234296e-23\n",
      " 5.5260838e-24 5.5152931e-12 4.8814595e-17 2.9420340e-08 6.4133811e-23\n",
      " 2.3153881e-36 0.0000000e+00 3.8473075e-38 1.4919532e-36 2.8085989e-27\n",
      " 4.9843224e-13 1.1576102e-07 1.0558999e-23]\n",
      "24\n"
     ]
    }
   ],
   "source": [
    "print(np.squeeze(tflite_results))\n",
    "print(np.argmax(np.squeeze(tflite_results)))"
   ]
  }
 ],
 "metadata": {
  "kernelspec": {
   "display_name": "Python 3 (ipykernel)",
   "language": "python",
   "name": "python3"
  },
  "language_info": {
   "codemirror_mode": {
    "name": "ipython",
    "version": 3
   },
   "file_extension": ".py",
   "mimetype": "text/x-python",
   "name": "python",
   "nbconvert_exporter": "python",
   "pygments_lexer": "ipython3",
   "version": "3.10.6"
  }
 },
 "nbformat": 4,
 "nbformat_minor": 4
}
